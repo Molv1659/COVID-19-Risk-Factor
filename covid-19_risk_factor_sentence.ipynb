{
 "cells": [
  {
   "cell_type": "markdown",
   "metadata": {},
   "source": [
    "# 数据处理 Preprocess the CORD-19 Data"
   ]
  },
  {
   "cell_type": "code",
   "execution_count": 1,
   "metadata": {},
   "outputs": [
    {
     "name": "stdout",
     "output_type": "stream",
     "text": [
      "start\n",
      "E:/COVID-19/2020-03-13/biorxiv_medrxiv/biorxiv_medrxiv\n",
      "start\n",
      "E:/COVID-19/2020-03-13/comm_use_subset/comm_use_subset\n",
      "start\n",
      "E:/COVID-19/2020-03-13/noncomm_use_subset/noncomm_use_subset\n",
      "start\n",
      "E:/COVID-19/2020-03-13/pmc_custom_license/pmc_custom_license\n"
     ]
    }
   ],
   "source": [
    "import re\n",
    "import os\n",
    "\n",
    "def add_paper(file_path):\n",
    "    body_txt = ''\n",
    "    with open(file_path,'r') as f:\n",
    "        paper = json.load(f)\n",
    "    for i in paper['abstract']:\n",
    "        body_txt = body_txt + i['text']\n",
    "        \n",
    "    regex1 = r'\\(.*?\\)'\n",
    "    pattern1 = re.compile(regex1)            \n",
    "    body_txt = re.sub(pattern1,'',body_txt)\n",
    "    regex2 = r'\\[.*?\\]'\n",
    "    pattern2 = re.compile(regex2)            \n",
    "    body_txt = re.sub(pattern2,'',body_txt)\n",
    "    regex3 = r'The copyright holder for this preprint.*?preprint'\n",
    "    pattern3 = re.compile(regex3)            \n",
    "    body_txt = re.sub(pattern3,'',body_txt)\n",
    "    \n",
    "    body_txt = body_txt + '\\n\\n\\n'\n",
    "    return body_txt\n",
    "\n",
    "body_txt = ''\n",
    "paths = ['E:/COVID-19/2020-03-13/biorxiv_medrxiv/biorxiv_medrxiv',\n",
    "         'E:/COVID-19/2020-03-13/comm_use_subset/comm_use_subset',\n",
    "         'E:/COVID-19/2020-03-13/noncomm_use_subset/noncomm_use_subset',\n",
    "         'E:/COVID-19/2020-03-13/pmc_custom_license/pmc_custom_license']\n",
    "\n",
    "# paths = ['E:/COVID-19/2020-03-13/pmc_custom_license/pmc_custom_license']\n",
    "for path in paths:\n",
    "    print('start')\n",
    "    files = os.listdir(path)\n",
    "    for file in files:\n",
    "        body_txt = body_txt + add_paper(path+'/'+file)\n",
    "    print(path)\n",
    "\n",
    "with open('covid19_paper.txt','w', encoding='utf-8') as f:\n",
    "    f.write(body_txt)"
   ]
  },
  {
   "cell_type": "code",
   "execution_count": 2,
   "metadata": {},
   "outputs": [
    {
     "name": "stdout",
     "output_type": "stream",
     "text": [
      "There are 13202 papers in total\n"
     ]
    }
   ],
   "source": [
    "import os\n",
    "num = 0\n",
    "paths = ['E:/COVID-19/2020-03-13/biorxiv_medrxiv/biorxiv_medrxiv',\n",
    "         'E:/COVID-19/2020-03-13/comm_use_subset/comm_use_subset',\n",
    "         'E:/COVID-19/2020-03-13/noncomm_use_subset/noncomm_use_subset',\n",
    "         'E:/COVID-19/2020-03-13/pmc_custom_license/pmc_custom_license']\n",
    "\n",
    "for path in paths:\n",
    "    files = os.listdir(path)\n",
    "    num = num + len(files)\n",
    "\n",
    "print(f\"There are {num} papers in total\")"
   ]
  },
  {
   "cell_type": "markdown",
   "metadata": {},
   "source": [
    "# 选出包含risk factor的句子 \n",
    "## Select the Sentences Containing the Risk Factors We Chose"
   ]
  },
  {
   "cell_type": "code",
   "execution_count": 6,
   "metadata": {},
   "outputs": [],
   "source": [
    "import re\n",
    "import numpy as np\n",
    "risk_factors = ['older adult','elder age','pregnan','lung disease','heart disease',\n",
    "                'cardiovascular disease','coronary disease',\n",
    "               'liver disease','nervous system disease','chronic kidney disease',\n",
    "               'chronic respiratory disease','coagulation dysfunction',\n",
    "               'diabetes','HIV','cancer','asthma','sepsis','hypertension',\n",
    "               'arrhythmia','myocardial infarction','chronic renal failure',\n",
    "               'dyspnea','high fever','neutrophilia','lymphocytopenia',\n",
    "               'methylprednisolone','leukocytosis','lactate dehydrogenase','LDH',\n",
    "               'plasma urea','serum creatinine','IL-6','CD4','CD3','CD8',\n",
    "               'high-sensitivity cardiac troponin','high-sensitivity C-reactive protein',\n",
    "               'd-dimer','D-dime','aspartate aminotransferase','alanine aminotransferase',\n",
    "               'medical resource','socioeconomics']\n",
    "def findsen(name):\n",
    "    with open('covid19_abstract.txt','r',encoding='utf-8') as f:\n",
    "        text = f.read()\n",
    "    return re.findall(r'[^.]*?{}[^。]*?\\.(?![0-9])'.format(name), text)\n",
    "a = []\n",
    "for i in range(len(risk_factors)):\n",
    "    sen = findsen(risk_factors[i])\n",
    "    a.append([])\n",
    "    a[i] = sen\n",
    "# a = np.array(a)\n",
    "# np.save('risk_factor_sen.npy', a)\n",
    "# a = np.load('risk_factor_sen.npy')\n",
    "# a = a.tolist()"
   ]
  },
  {
   "cell_type": "code",
   "execution_count": 1,
   "metadata": {},
   "outputs": [
    {
     "name": "stdout",
     "output_type": "stream",
     "text": [
      "1  LRTI occurs less frequently, but young children, older adults, and persons who are immunosuppressed appear to be at higher risk for these types of infections    .\n",
      "2 Unlike the other currently recognized human CoVs, HCoV-229E, HCoV-OC43, HCoV-NL63, and HKU1, which usually cause mild upper respiratory tract infections and occasionally pneumonia in older adults, neonates, and immunocompromised patients     , SARS-CoV causes severe febrile lower respiratory tract illness that leads to pneumonia and acute respiratory distress  .\n",
      "3  Such a finding is hardly surprising in view of the high infection rates which have been observed in unselected older adults.\n",
      "4  Our findings that older adults are more aware than younger persons has also been found in other settings  as has the increased public health awareness in more educated groups .\n",
      "5  We also detected MERS-CoV RNA in a higher proportion of specimens from younger than from older adult dromedary camels, consistent with findings of previous studies that MERS-CoV infection is more common among young camels  .\n",
      "6  2 Co-infection was more common in persons less than 30 years of age as compared to older adults.\n",
      "7  These data are congruent with findings from a previously published study where co-infection was more likely in younger than older adults.\n",
      "8  Whilst overall infection rates of those 30-60 years of age were low, case fatality rates increased dramatically in older adults .\n",
      "9  For this reason, nasopharyngeal swabbing  is the preferred sampling method in older adults  , although slightly fewer epithelial cells are recovered by NPS as compared to NPA and NPW  .\n",
      "10  Most MERS cases have been reported in older adults with underlying medical conditions  .\n"
     ]
    }
   ],
   "source": [
    "import re\n",
    "import numpy as np\n",
    "name = 'older adult'\n",
    "with open('covid19_part4.txt','r',encoding='utf-8') as f:\n",
    "    text = f.read()\n",
    "results = re.findall(r'[^.]*?{}[^.]*?\\.(?![0-9])'.format(name), text)\n",
    "for i,r in enumerate(results,1):\n",
    "    print(i,r)"
   ]
  },
  {
   "cell_type": "markdown",
   "metadata": {},
   "source": [
    "# 过滤，直接含有CoV和coronavirus的句子\n",
    "## Get the Sentences that contain 'CoV' and 'coronavirus'"
   ]
  },
  {
   "cell_type": "code",
   "execution_count": 4,
   "metadata": {},
   "outputs": [
    {
     "name": "stdout",
     "output_type": "stream",
     "text": [
      "2170\n"
     ]
    }
   ],
   "source": [
    "import numpy as np\n",
    "import pandas as pd\n",
    "a = np.load('risk_factor_sen.npy')\n",
    "a = a.tolist()\n",
    "sen_contain_cov=[]\n",
    "for i in a:\n",
    "    for j in i:\n",
    "        if 'CoV' in j or 'coronavirus' in j:\n",
    "            sen_contain_cov.append(j)\n",
    "print(len(sen_contain_cov))\n",
    "labels = [0]*len(sen_contain_cov)\n",
    "df = pd.DataFrame({\"sentence\":sen_contain_cov, \"labels\":labels})\n",
    "df.to_excel('sen_contain_cov.xls')"
   ]
  },
  {
   "cell_type": "markdown",
   "metadata": {},
   "source": [
    "# 得到三个训练样本集和测试集\n",
    "## Get 3 train sets and test set"
   ]
  },
  {
   "cell_type": "code",
   "execution_count": 37,
   "metadata": {},
   "outputs": [],
   "source": [
    "from pandas import DataFrame\n",
    "import pandas as pd\n",
    "df1 = pd.read_excel('data1.xlsx')\n",
    "df2 = pd.read_excel('sen_irrelevant.xls')\n",
    "p_sent = df1[df1['labels']==1].reset_index()\n",
    "n1_sent = df1[df1['labels']==0].reset_index()\n",
    "n2_sent = df2\n"
   ]
  },
  {
   "cell_type": "code",
   "execution_count": 38,
   "metadata": {},
   "outputs": [],
   "source": [
    "data2 = pd.concat([p_sent[0:400], n2_sent]).reset_index()\n",
    "data3 = pd.concat([p_sent[0:400],n1_sent[0:500],n2_sent[0:500]]).reset_index()\n",
    "data2.to_excel('data2.xlsx')\n",
    "data3.to_excel('data3.xlsx')"
   ]
  },
  {
   "cell_type": "code",
   "execution_count": 39,
   "metadata": {},
   "outputs": [],
   "source": [
    "data_test = pd.concat([p_sent[400:500],n1_sent[500:600],n2_sent[500:600]]).reset_index()\n",
    "data_test.to_excel('data_test.xlsx')"
   ]
  },
  {
   "cell_type": "code",
   "execution_count": 40,
   "metadata": {},
   "outputs": [],
   "source": [
    "n2_sent['labels'] = 2\n",
    "data4 = pd.concat([p_sent[0:400],n1_sent[0:500],n2_sent[0:500]]).reset_index()\n",
    "data4.to_excel('data4.xlsx')"
   ]
  },
  {
   "cell_type": "code",
   "execution_count": 2,
   "metadata": {},
   "outputs": [
    {
     "data": {
      "text/plain": [
       "13202"
      ]
     },
     "execution_count": 2,
     "metadata": {},
     "output_type": "execute_result"
    }
   ],
   "source": [
    "paths = ['E:/COVID-19/2020-03-13/biorxiv_medrxiv/biorxiv_medrxiv',\n",
    "         'E:/COVID-19/2020-03-13/comm_use_subset/comm_use_subset',\n",
    "         'E:/COVID-19/2020-03-13/noncomm_use_subset/noncomm_use_subset',\n",
    "         'E:/COVID-19/2020-03-13/pmc_custom_license/pmc_custom_license']\n",
    "total_paper_num = 0\n",
    "for path in paths:\n",
    "    files = os.listdir(path)\n",
    "    total_paper_num = total_paper_num + len(files)\n",
    "total_paper_num"
   ]
  },
  {
   "cell_type": "markdown",
   "metadata": {},
   "source": [
    "# 得到处理好的所有句子\n",
    "## Get all sentences in fine version"
   ]
  },
  {
   "cell_type": "code",
   "execution_count": 15,
   "metadata": {},
   "outputs": [
    {
     "name": "stdout",
     "output_type": "stream",
     "text": [
      "start\n",
      "start\n",
      "start\n",
      "start\n"
     ]
    }
   ],
   "source": [
    "import json\n",
    "import re\n",
    "import pandas as pd\n",
    "import os\n",
    "\n",
    "def clear_sent(sent):\n",
    "    i = 0\n",
    "    while sent[i]==' ' or sent[i] in ['0','1','2','3','4','5','6','7','8','9']:\n",
    "        i = i + 1\n",
    "    sent = sent[i:]\n",
    "    return sent\n",
    "\n",
    "def add_paper(file_path):\n",
    "    body_txt = ''\n",
    "    with open(file_path,'r') as f:\n",
    "        paper = json.load(f)\n",
    "    for i in paper['body_text']:\n",
    "        if 'preprint' not in i['text'] and 'rights reserved' not in i['text']:\n",
    "            body_txt = body_txt + i['text']\n",
    "    for i in paper['abstract']:\n",
    "        if 'preprint' not in i['text'] and 'rights reserved' not in i['text']:\n",
    "            body_txt = body_txt + i['text']\n",
    "        \n",
    "    regex1 = r'\\(.*?\\)'\n",
    "    pattern1 = re.compile(regex1)            \n",
    "    body_txt = re.sub(pattern1,'',body_txt)\n",
    "    regex2 = r'\\[.*?\\]'\n",
    "    pattern2 = re.compile(regex2)            \n",
    "    body_txt = re.sub(pattern2,'',body_txt)\n",
    "    sentences = re.findall(r'[^.]*?\\.(?![0-9])', body_txt)\n",
    "    sentences = [clear_sent(sent) for sent in sentences]\n",
    "\n",
    "    return sentences\n",
    "\n",
    "paths = ['E:/COVID-19/2020-03-13/biorxiv_medrxiv/biorxiv_medrxiv',\n",
    "         'E:/COVID-19/2020-03-13/comm_use_subset/comm_use_subset',\n",
    "         'E:/COVID-19/2020-03-13/noncomm_use_subset/noncomm_use_subset',\n",
    "         'E:/COVID-19/2020-03-13/pmc_custom_license/pmc_custom_license']\n",
    "\n",
    "all_sentences = []\n",
    "for path in paths:\n",
    "    print('start')\n",
    "    files = os.listdir(path)\n",
    "    for file in files:\n",
    "        all_sentences.extend(add_paper(path+'/'+file))\n",
    "\n"
   ]
  },
  {
   "cell_type": "code",
   "execution_count": 16,
   "metadata": {},
   "outputs": [
    {
     "name": "stdout",
     "output_type": "stream",
     "text": [
      "2262149\n"
     ]
    }
   ],
   "source": [
    "all_sent_fine_ver = []\n",
    "for sent in all_sentences:\n",
    "    if len(sent)>30:\n",
    "        all_sent_fine_ver.append(sent)\n",
    "print(len(all_sent_fine_ver))\n",
    "df = pd.DataFrame({'sentence':all_sent_fine_ver})\n",
    "df.to_excel('all_sentences.xlsx')\n"
   ]
  },
  {
   "cell_type": "code",
   "execution_count": 21,
   "metadata": {},
   "outputs": [
    {
     "data": {
      "text/plain": [
       "'The domain of integration for each parameter is all that remains to be solved.'"
      ]
     },
     "execution_count": 21,
     "metadata": {},
     "output_type": "execute_result"
    }
   ],
   "source": [
    "df.sentence[11394]"
   ]
  },
  {
   "cell_type": "code",
   "execution_count": null,
   "metadata": {},
   "outputs": [],
   "source": []
  }
 ],
 "metadata": {
  "kernelspec": {
   "display_name": "Python 3",
   "language": "python",
   "name": "python3"
  },
  "language_info": {
   "codemirror_mode": {
    "name": "ipython",
    "version": 3
   },
   "file_extension": ".py",
   "mimetype": "text/x-python",
   "name": "python",
   "nbconvert_exporter": "python",
   "pygments_lexer": "ipython3",
   "version": "3.6.10"
  },
  "toc": {
   "base_numbering": 1,
   "nav_menu": {},
   "number_sections": true,
   "sideBar": true,
   "skip_h1_title": false,
   "title_cell": "Table of Contents",
   "title_sidebar": "Contents",
   "toc_cell": false,
   "toc_position": {},
   "toc_section_display": true,
   "toc_window_display": false
  },
  "varInspector": {
   "cols": {
    "lenName": 16,
    "lenType": 16,
    "lenVar": 40
   },
   "kernels_config": {
    "python": {
     "delete_cmd_postfix": "",
     "delete_cmd_prefix": "del ",
     "library": "var_list.py",
     "varRefreshCmd": "print(var_dic_list())"
    },
    "r": {
     "delete_cmd_postfix": ") ",
     "delete_cmd_prefix": "rm(",
     "library": "var_list.r",
     "varRefreshCmd": "cat(var_dic_list()) "
    }
   },
   "types_to_exclude": [
    "module",
    "function",
    "builtin_function_or_method",
    "instance",
    "_Feature"
   ],
   "window_display": false
  }
 },
 "nbformat": 4,
 "nbformat_minor": 2
}
