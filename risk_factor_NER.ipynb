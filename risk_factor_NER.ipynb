{
 "cells": [
  {
   "cell_type": "code",
   "execution_count": 1,
   "metadata": {},
   "outputs": [],
   "source": [
    "import numpy as np\n",
    "import pandas as pd \n",
    "import nltk\n",
    "from nltk.tokenize import word_tokenize\n",
    "from nltk.tag import pos_tag"
   ]
  },
  {
   "cell_type": "markdown",
   "metadata": {},
   "source": [
    "# 打标签"
   ]
  },
  {
   "cell_type": "code",
   "execution_count": 2,
   "metadata": {},
   "outputs": [],
   "source": [
    "risk_factors_B1 = [\n",
    "    'pregnant', 'fever', 'diabetes', 'HIV', 'cancer', 'asthma', 'sepsis',\n",
    "    'hypertension', 'arrhythmia', 'dyspnea', 'high fever', 'neutrophilia',\n",
    "    'lymphocytopenia', 'methylprednisolone', 'leukocytosis', 'LDH', 'IL-6',\n",
    "    'CD4', 'CD3', 'CD8', 'd-dimer', 'D-dime', 'socioeconomics', 'pregnancy',\n",
    "    'AMI','cigarette','HIV-1'\n",
    "]\n",
    "risk_factors_B2 = [\n",
    "    'older', 'lung', 'lactate', 'serum', 'high-sensitivity',\n",
    "    'high-sensitivity', 'aspartate', 'alanine', 'medical', 'heart',\n",
    "    'cardiovascular', 'coronary', 'liver', 'nervous', 'chronic', 'chronic',\n",
    "    'coagulation', 'myocardial', 'plasma', 'chronic'\n",
    "]\n",
    "\n",
    "risk_factors_I = [\n",
    "    'adults', 'age', 'disease', 'system', 'kidney', 'dysfunction',\n",
    "    'respiratory', 'infarction', 'renal', 'failure', 'fever', 'dehydrogenase',\n",
    "    'urea', 'creatinine', 'cardiac', 'troponin'\n",
    "    'C-reactive', 'protein', 'aminotransferase', 'resource', 'women'\n",
    "]"
   ]
  },
  {
   "cell_type": "code",
   "execution_count": 3,
   "metadata": {},
   "outputs": [],
   "source": [
    "def preprocess(sent):\n",
    "    sent = word_tokenize(sent)\n",
    "    sent = pos_tag(sent)\n",
    "    for i in range(len(sent)):\n",
    "        word, p_tag = sent[i]\n",
    "        if word in risk_factors_B1:\n",
    "            sent[i] = (word, p_tag, 'B')\n",
    "        elif word in risk_factors_B2 and i != len(sent)-1 and sent[i+1][0] in risk_factors_I:\n",
    "            sent[i] = (word, p_tag, 'B')\n",
    "        elif word in risk_factors_I and i>0 and (sent[i-1][2]=='B' or sent[i-1][2]=='I'):\n",
    "            sent[i] = (word, p_tag, 'I')\n",
    "        else:\n",
    "            sent[i] = (word, p_tag, 'O')       \n",
    "    return sent\n",
    "\n"
   ]
  },
  {
   "cell_type": "code",
   "execution_count": 4,
   "metadata": {},
   "outputs": [],
   "source": [
    "def pprint(sent):\n",
    "    print(' '.join(word for word,q,w in sent))\n",
    "    for j in sent:\n",
    "        print(j)"
   ]
  },
  {
   "cell_type": "code",
   "execution_count": 5,
   "metadata": {},
   "outputs": [
    {
     "name": "stdout",
     "output_type": "stream",
     "text": [
      "The third influenza study was an RCT that investigated the efficacy of the influenza vaccine among older adults in Japanese LTCFs .ipynb_checkpoints/\n",
      "('The', 'DT', 'O')\n",
      "('third', 'JJ', 'O')\n",
      "('influenza', 'NN', 'O')\n",
      "('study', 'NN', 'O')\n",
      "('was', 'VBD', 'O')\n",
      "('an', 'DT', 'O')\n",
      "('RCT', 'NNP', 'O')\n",
      "('that', 'WDT', 'O')\n",
      "('investigated', 'VBD', 'O')\n",
      "('the', 'DT', 'O')\n",
      "('efficacy', 'NN', 'O')\n",
      "('of', 'IN', 'O')\n",
      "('the', 'DT', 'O')\n",
      "('influenza', 'JJ', 'O')\n",
      "('vaccine', 'NN', 'O')\n",
      "('among', 'IN', 'O')\n",
      "('older', 'JJR', 'B')\n",
      "('adults', 'NNS', 'I')\n",
      "('in', 'IN', 'O')\n",
      "('Japanese', 'JJ', 'O')\n",
      "('LTCFs', 'NNP', 'O')\n",
      "('.ipynb_checkpoints/', 'NN', 'O')\n"
     ]
    }
   ],
   "source": [
    "ex = 'The third influenza study was an RCT that investigated the efficacy of the influenza vaccine among older adults in Japanese LTCFs .ipynb_checkpoints/'\n",
    "pprint(preprocess(ex))"
   ]
  },
  {
   "cell_type": "markdown",
   "metadata": {},
   "source": [
    "# 数据预选"
   ]
  },
  {
   "cell_type": "code",
   "execution_count": 6,
   "metadata": {},
   "outputs": [
    {
     "data": {
      "text/plain": [
       "101468"
      ]
     },
     "execution_count": 6,
     "metadata": {},
     "output_type": "execute_result"
    }
   ],
   "source": [
    "a = np.load('risk_factor_sen.npy')\n",
    "a = a.tolist()\n",
    "sentences_100000 = []\n",
    "for i in a:\n",
    "    sentences_100000.extend(i)\n",
    "len(sentences_100000)\n"
   ]
  },
  {
   "cell_type": "code",
   "execution_count": 7,
   "metadata": {},
   "outputs": [
    {
     "name": "stdout",
     "output_type": "stream",
     "text": [
      "6272\n",
      "In this situation , opportunity to weigh the risks and benefits to a pregnancy before exposure to the medication or vaccine is missed ; instead , consideration must focus on any effects these measures may have had on the fetus .\n",
      "('In', 'IN', 'O')\n",
      "('this', 'DT', 'O')\n",
      "('situation', 'NN', 'O')\n",
      "(',', ',', 'O')\n",
      "('opportunity', 'NN', 'O')\n",
      "('to', 'TO', 'O')\n",
      "('weigh', 'VB', 'O')\n",
      "('the', 'DT', 'O')\n",
      "('risks', 'NNS', 'O')\n",
      "('and', 'CC', 'O')\n",
      "('benefits', 'NNS', 'O')\n",
      "('to', 'TO', 'O')\n",
      "('a', 'DT', 'O')\n",
      "('pregnancy', 'NN', 'B')\n",
      "('before', 'IN', 'O')\n",
      "('exposure', 'NN', 'O')\n",
      "('to', 'TO', 'O')\n",
      "('the', 'DT', 'O')\n",
      "('medication', 'NN', 'O')\n",
      "('or', 'CC', 'O')\n",
      "('vaccine', 'NN', 'O')\n",
      "('is', 'VBZ', 'O')\n",
      "('missed', 'VBN', 'O')\n",
      "(';', ':', 'O')\n",
      "('instead', 'RB', 'O')\n",
      "(',', ',', 'O')\n",
      "('consideration', 'NN', 'O')\n",
      "('must', 'MD', 'O')\n",
      "('focus', 'VB', 'O')\n",
      "('on', 'IN', 'O')\n",
      "('any', 'DT', 'O')\n",
      "('effects', 'NNS', 'O')\n",
      "('these', 'DT', 'O')\n",
      "('measures', 'NNS', 'O')\n",
      "('may', 'MD', 'O')\n",
      "('have', 'VB', 'O')\n",
      "('had', 'VBN', 'O')\n",
      "('on', 'IN', 'O')\n",
      "('the', 'DT', 'O')\n",
      "('fetus', 'NN', 'O')\n",
      "('.', '.', 'O')\n",
      "1 Tackling the interaction between diabetes and infection requires a greater understanding of the immune mechanisms underlying the altered susceptibility to infection seen in diabetes , and knowledge of how therapeutic management of diabetes impacts on risk of infection .\n",
      "('1', 'CD', 'O')\n",
      "('Tackling', 'VBG', 'O')\n",
      "('the', 'DT', 'O')\n",
      "('interaction', 'NN', 'O')\n",
      "('between', 'IN', 'O')\n",
      "('diabetes', 'NNS', 'B')\n",
      "('and', 'CC', 'O')\n",
      "('infection', 'NN', 'O')\n",
      "('requires', 'VBZ', 'O')\n",
      "('a', 'DT', 'O')\n",
      "('greater', 'JJR', 'O')\n",
      "('understanding', 'NN', 'O')\n",
      "('of', 'IN', 'O')\n",
      "('the', 'DT', 'O')\n",
      "('immune', 'JJ', 'O')\n",
      "('mechanisms', 'NNS', 'O')\n",
      "('underlying', 'VBG', 'O')\n",
      "('the', 'DT', 'O')\n",
      "('altered', 'JJ', 'O')\n",
      "('susceptibility', 'NN', 'O')\n",
      "('to', 'TO', 'O')\n",
      "('infection', 'NN', 'O')\n",
      "('seen', 'VBN', 'O')\n",
      "('in', 'IN', 'O')\n",
      "('diabetes', 'NNS', 'B')\n",
      "(',', ',', 'O')\n",
      "('and', 'CC', 'O')\n",
      "('knowledge', 'NN', 'O')\n",
      "('of', 'IN', 'O')\n",
      "('how', 'WRB', 'O')\n",
      "('therapeutic', 'JJ', 'O')\n",
      "('management', 'NN', 'O')\n",
      "('of', 'IN', 'O')\n",
      "('diabetes', 'NNS', 'B')\n",
      "('impacts', 'NNS', 'O')\n",
      "('on', 'IN', 'O')\n",
      "('risk', 'NN', 'O')\n",
      "('of', 'IN', 'O')\n",
      "('infection', 'NN', 'O')\n",
      "('.', '.', 'O')\n",
      "Finally , despite its high risk of nephrotoxicity , cidofovir , which is a drug licensed for the treatment of cytomegalovirus retinitis in HIV-infected patients , has been used to treat ADV infections in immunocompromised subjects .\n",
      "('Finally', 'RB', 'O')\n",
      "(',', ',', 'O')\n",
      "('despite', 'IN', 'O')\n",
      "('its', 'PRP$', 'O')\n",
      "('high', 'JJ', 'O')\n",
      "('risk', 'NN', 'O')\n",
      "('of', 'IN', 'O')\n",
      "('nephrotoxicity', 'NN', 'O')\n",
      "(',', ',', 'O')\n",
      "('cidofovir', 'NN', 'O')\n",
      "(',', ',', 'O')\n",
      "('which', 'WDT', 'O')\n",
      "('is', 'VBZ', 'O')\n",
      "('a', 'DT', 'O')\n",
      "('drug', 'NN', 'O')\n",
      "('licensed', 'VBN', 'O')\n",
      "('for', 'IN', 'O')\n",
      "('the', 'DT', 'O')\n",
      "('treatment', 'NN', 'O')\n",
      "('of', 'IN', 'O')\n",
      "('cytomegalovirus', 'NN', 'O')\n",
      "('retinitis', 'NN', 'O')\n",
      "('in', 'IN', 'O')\n",
      "('HIV-infected', 'JJ', 'O')\n",
      "('patients', 'NNS', 'O')\n",
      "(',', ',', 'O')\n",
      "('has', 'VBZ', 'O')\n",
      "('been', 'VBN', 'O')\n",
      "('used', 'VBN', 'O')\n",
      "('to', 'TO', 'O')\n",
      "('treat', 'VB', 'O')\n",
      "('ADV', 'NNP', 'O')\n",
      "('infections', 'NNS', 'O')\n",
      "('in', 'IN', 'O')\n",
      "('immunocompromised', 'JJ', 'O')\n",
      "('subjects', 'NNS', 'O')\n",
      "('.', '.', 'O')\n",
      "Cellular annexin A2 was found to be endogenously associated with HCMV , HIV , influenza virus particles , and herpes simplex virus 1 .\n",
      "('Cellular', 'JJ', 'O')\n",
      "('annexin', 'NN', 'O')\n",
      "('A2', 'NNP', 'O')\n",
      "('was', 'VBD', 'O')\n",
      "('found', 'VBN', 'O')\n",
      "('to', 'TO', 'O')\n",
      "('be', 'VB', 'O')\n",
      "('endogenously', 'RB', 'O')\n",
      "('associated', 'VBN', 'O')\n",
      "('with', 'IN', 'O')\n",
      "('HCMV', 'NNP', 'O')\n",
      "(',', ',', 'O')\n",
      "('HIV', 'NNP', 'B')\n",
      "(',', ',', 'O')\n",
      "('influenza', 'JJ', 'O')\n",
      "('virus', 'NN', 'O')\n",
      "('particles', 'NNS', 'O')\n",
      "(',', ',', 'O')\n",
      "('and', 'CC', 'O')\n",
      "('herpes', 'NNS', 'O')\n",
      "('simplex', 'VBP', 'O')\n",
      "('virus', 'NN', 'O')\n",
      "('1', 'CD', 'O')\n",
      "('.', '.', 'O')\n",
      "Therefore , many authorities ORIGINAL RESEARCH Incidence and risk factors of postoperative pneumonia following cancer surgery in adult patients with selected solid cancer : results of `` Cancer POP '' study recommend pneumococcal and influenza vaccination in cancer patients .\n",
      "('Therefore', 'RB', 'O')\n",
      "(',', ',', 'O')\n",
      "('many', 'JJ', 'O')\n",
      "('authorities', 'NNS', 'O')\n",
      "('ORIGINAL', 'NNP', 'O')\n",
      "('RESEARCH', 'NNP', 'O')\n",
      "('Incidence', 'NNP', 'O')\n",
      "('and', 'CC', 'O')\n",
      "('risk', 'NN', 'O')\n",
      "('factors', 'NNS', 'O')\n",
      "('of', 'IN', 'O')\n",
      "('postoperative', 'JJ', 'O')\n",
      "('pneumonia', 'NN', 'O')\n",
      "('following', 'VBG', 'O')\n",
      "('cancer', 'NN', 'B')\n",
      "('surgery', 'NN', 'O')\n",
      "('in', 'IN', 'O')\n",
      "('adult', 'NN', 'O')\n",
      "('patients', 'NNS', 'O')\n",
      "('with', 'IN', 'O')\n",
      "('selected', 'VBN', 'O')\n",
      "('solid', 'JJ', 'O')\n",
      "('cancer', 'NN', 'B')\n",
      "(':', ':', 'O')\n",
      "('results', 'NNS', 'O')\n",
      "('of', 'IN', 'O')\n",
      "('``', '``', 'O')\n",
      "('Cancer', 'NNP', 'O')\n",
      "('POP', 'NNP', 'O')\n",
      "(\"''\", \"''\", 'O')\n",
      "('study', 'NN', 'O')\n",
      "('recommend', 'VB', 'O')\n",
      "('pneumococcal', 'JJ', 'O')\n",
      "('and', 'CC', 'O')\n",
      "('influenza', 'JJ', 'O')\n",
      "('vaccination', 'NN', 'O')\n",
      "('in', 'IN', 'O')\n",
      "('cancer', 'NN', 'B')\n",
      "('patients', 'NNS', 'O')\n",
      "('.', '.', 'O')\n",
      "Our data presented here demonstrate the functional importance of PCAF in mediating the expression of XBP-1S target genes in MCF7 cells , suggesting a potential role of PCAF in XBP-1S-mediated tumerigenesis of breast cancers .\n",
      "('Our', 'PRP$', 'O')\n",
      "('data', 'NNS', 'O')\n",
      "('presented', 'VBN', 'O')\n",
      "('here', 'RB', 'O')\n",
      "('demonstrate', 'VB', 'O')\n",
      "('the', 'DT', 'O')\n",
      "('functional', 'JJ', 'O')\n",
      "('importance', 'NN', 'O')\n",
      "('of', 'IN', 'O')\n",
      "('PCAF', 'NNP', 'O')\n",
      "('in', 'IN', 'O')\n",
      "('mediating', 'VBG', 'O')\n",
      "('the', 'DT', 'O')\n",
      "('expression', 'NN', 'O')\n",
      "('of', 'IN', 'O')\n",
      "('XBP-1S', 'NNP', 'O')\n",
      "('target', 'NN', 'O')\n",
      "('genes', 'NNS', 'O')\n",
      "('in', 'IN', 'O')\n",
      "('MCF7', 'NNP', 'O')\n",
      "('cells', 'NNS', 'O')\n",
      "(',', ',', 'O')\n",
      "('suggesting', 'VBG', 'O')\n",
      "('a', 'DT', 'O')\n",
      "('potential', 'JJ', 'O')\n",
      "('role', 'NN', 'O')\n",
      "('of', 'IN', 'O')\n",
      "('PCAF', 'NNP', 'O')\n",
      "('in', 'IN', 'O')\n",
      "('XBP-1S-mediated', 'JJ', 'O')\n",
      "('tumerigenesis', 'NN', 'O')\n",
      "('of', 'IN', 'O')\n",
      "('breast', 'NN', 'O')\n",
      "('cancers', 'NNS', 'O')\n",
      "('.', '.', 'O')\n"
     ]
    }
   ],
   "source": [
    "sentences = []\n",
    "for i in range(len(sentences_100000)):\n",
    "    if 'risk' in sentences_100000[i]:\n",
    "        sentences.append(sentences_100000[i])\n",
    "    if i%30 == 0:\n",
    "        sentences.append(sentences_100000[i])\n",
    "del_index = []    \n",
    "\n",
    "for i in range(len(sentences)):\n",
    "    if len(sentences[i]) > 512 or len(word_tokenize(sentences[i])) > 70:\n",
    "        del_index.append(i)\n",
    "\n",
    "for i in del_index[::-1]:\n",
    "    del sentences[i]\n",
    "\n",
    "        \n",
    "print(len(sentences))\n",
    "for i in [500,1000,1500,2000,2500,3000]:\n",
    "    pprint(preprocess(sentences[i]))"
   ]
  },
  {
   "cell_type": "code",
   "execution_count": 8,
   "metadata": {},
   "outputs": [
    {
     "name": "stdout",
     "output_type": "stream",
     "text": [
      "70\n",
      "0\n"
     ]
    }
   ],
   "source": [
    "max_len = 0\n",
    "num = 0\n",
    "for i in sentences:\n",
    "    if len(word_tokenize(i)) > max_len:\n",
    "        max_len = len(word_tokenize(i))\n",
    "    if len(word_tokenize(i)) > 70:\n",
    "        num = num + 1\n",
    "print(max_len)\n",
    "print(num)"
   ]
  },
  {
   "cell_type": "markdown",
   "metadata": {},
   "source": [
    "## 删去没有B的"
   ]
  },
  {
   "cell_type": "code",
   "execution_count": 9,
   "metadata": {},
   "outputs": [
    {
     "name": "stdout",
     "output_type": "stream",
     "text": [
      "4668\n"
     ]
    }
   ],
   "source": [
    "num = 0\n",
    "temp = []\n",
    "def haveB(sent):\n",
    "    sent = preprocess(sent)\n",
    "    for i in sent:\n",
    "        if i[2]=='B':\n",
    "            return True\n",
    "    return False\n",
    "for i in range(len(sentences)):\n",
    "    if haveB(sentences[i]):\n",
    "        num = num + 1\n",
    "        temp.append(sentences[i])\n",
    "print(num)\n",
    "sentences = temp\n"
   ]
  },
  {
   "cell_type": "markdown",
   "metadata": {},
   "source": [
    "# tokenizer 也得包含要predict的数据的，不然转换有问题"
   ]
  },
  {
   "cell_type": "code",
   "execution_count": 10,
   "metadata": {},
   "outputs": [
    {
     "data": {
      "text/html": [
       "<div>\n",
       "<table border=\"1\" class=\"dataframe\">\n",
       "  <thead>\n",
       "    <tr style=\"text-align: right;\">\n",
       "      <th></th>\n",
       "      <th>word</th>\n",
       "      <th>pos_tag</th>\n",
       "      <th>BIO_tag</th>\n",
       "    </tr>\n",
       "  </thead>\n",
       "  <tbody>\n",
       "    <tr>\n",
       "      <th>0</th>\n",
       "      <td>The</td>\n",
       "      <td>DT</td>\n",
       "      <td>O</td>\n",
       "    </tr>\n",
       "    <tr>\n",
       "      <th>1</th>\n",
       "      <td>majority</td>\n",
       "      <td>NN</td>\n",
       "      <td>O</td>\n",
       "    </tr>\n",
       "    <tr>\n",
       "      <th>2</th>\n",
       "      <td>of</td>\n",
       "      <td>IN</td>\n",
       "      <td>O</td>\n",
       "    </tr>\n",
       "    <tr>\n",
       "      <th>3</th>\n",
       "      <td>all</td>\n",
       "      <td>DT</td>\n",
       "      <td>O</td>\n",
       "    </tr>\n",
       "    <tr>\n",
       "      <th>4</th>\n",
       "      <td>norovirus</td>\n",
       "      <td>JJ</td>\n",
       "      <td>O</td>\n",
       "    </tr>\n",
       "    <tr>\n",
       "      <th>5</th>\n",
       "      <td>outbreaks</td>\n",
       "      <td>NNS</td>\n",
       "      <td>O</td>\n",
       "    </tr>\n",
       "    <tr>\n",
       "      <th>6</th>\n",
       "      <td>reported</td>\n",
       "      <td>VBN</td>\n",
       "      <td>O</td>\n",
       "    </tr>\n",
       "    <tr>\n",
       "      <th>7</th>\n",
       "      <td>to</td>\n",
       "      <td>TO</td>\n",
       "      <td>O</td>\n",
       "    </tr>\n",
       "    <tr>\n",
       "      <th>8</th>\n",
       "      <td>the</td>\n",
       "      <td>DT</td>\n",
       "      <td>O</td>\n",
       "    </tr>\n",
       "    <tr>\n",
       "      <th>9</th>\n",
       "      <td>CDC</td>\n",
       "      <td>NNP</td>\n",
       "      <td>O</td>\n",
       "    </tr>\n",
       "  </tbody>\n",
       "</table>\n",
       "</div>"
      ],
      "text/plain": [
       "        word pos_tag BIO_tag\n",
       "0        The      DT       O\n",
       "1   majority      NN       O\n",
       "2         of      IN       O\n",
       "3        all      DT       O\n",
       "4  norovirus      JJ       O\n",
       "5  outbreaks     NNS       O\n",
       "6   reported     VBN       O\n",
       "7         to      TO       O\n",
       "8        the      DT       O\n",
       "9        CDC     NNP       O"
      ]
     },
     "execution_count": 10,
     "metadata": {},
     "output_type": "execute_result"
    }
   ],
   "source": [
    "all_sent = []\n",
    "pos_sentences = pd.read_excel('positive_sent.xlsx').sentence\n",
    "for i in sentences:\n",
    "    all_sent.extend(preprocess(i))\n",
    "for i in pos_sentences:\n",
    "    all_sent.extend(preprocess(i))\n",
    "df = pd.DataFrame(all_sent,columns=['word', 'pos_tag', 'BIO_tag'])\n",
    "df.head(10)"
   ]
  },
  {
   "cell_type": "code",
   "execution_count": 11,
   "metadata": {},
   "outputs": [
    {
     "name": "stdout",
     "output_type": "stream",
     "text": [
      "28640\n"
     ]
    }
   ],
   "source": [
    "words = list(df['word'].unique())\n",
    "print(len(words))\n",
    "tags = ['B', 'I', 'O']\n",
    "\n",
    "word_to_index = {w : i + 2 for i,w in enumerate(words)}\n",
    "word_to_index['PAD'] = 0\n",
    "word_to_index['UNK'] = 1\n",
    "\n",
    "tag_to_index = {t : i +1 for i,t in enumerate(tags)}\n",
    "tag_to_index['PAD'] = 0\n",
    "\n",
    "idx2word = {i : w for w,i in word_to_index.items()}\n",
    "idx2tag = {i : t for t,i in tag_to_index.items()}"
   ]
  },
  {
   "cell_type": "markdown",
   "metadata": {},
   "source": [
    "# Model"
   ]
  },
  {
   "cell_type": "code",
   "execution_count": 35,
   "metadata": {},
   "outputs": [],
   "source": [
    "import pandas as pd\n",
    "import numpy as np\n",
    "from keras.utils import to_categorical\n",
    "from sklearn.model_selection import train_test_split\n",
    "from keras.preprocessing.sequence import pad_sequences\n",
    "import matplotlib.pyplot as plt\n",
    "%matplotlib inline\n"
   ]
  },
  {
   "cell_type": "code",
   "execution_count": 36,
   "metadata": {},
   "outputs": [],
   "source": [
    "all_sent = []\n",
    "max_len = 70\n",
    "for i in sentences:\n",
    "    all_sent.append(preprocess(i))\n",
    "X = [[word_to_index[w[0]] for w in preprocess(s)] for s in sentences]\n",
    "X = pad_sequences(maxlen=max_len,\n",
    "                  sequences=X,\n",
    "                  padding=\"post\",\n",
    "                  value=word_to_index[\"PAD\"])\n",
    "\n",
    "y = [[tag_to_index[w[2]] for w in preprocess(s)] for s in sentences]\n",
    "y = pad_sequences(maxlen=max_len,\n",
    "                  sequences=y,\n",
    "                  padding=\"post\",\n",
    "                  value=tag_to_index[\"PAD\"])\n",
    "# y = [to_categorical(i, num_classes = 4) for i in y]"
   ]
  },
  {
   "cell_type": "code",
   "execution_count": 37,
   "metadata": {},
   "outputs": [
    {
     "name": "stdout",
     "output_type": "stream",
     "text": [
      "Size of training input data :  (3501, 70)\n",
      "Size of training output data :  (3501, 70)\n",
      "Size of testing input data :  (1167, 70)\n",
      "Size of testing output data :  (1167, 70)\n"
     ]
    }
   ],
   "source": [
    "y = np.array(y)\n",
    "X_train, X_test, y_train, y_test = train_test_split(X, y, test_size = 0.25)\n",
    "\n",
    "print(\"Size of training input data : \", X_train.shape)\n",
    "print(\"Size of training output data : \", np.array(y_train).shape)\n",
    "print(\"Size of testing input data : \", X_test.shape)\n",
    "print(\"Size of testing output data : \", np.array(y_test).shape)\n"
   ]
  },
  {
   "cell_type": "code",
   "execution_count": 38,
   "metadata": {},
   "outputs": [
    {
     "name": "stdout",
     "output_type": "stream",
     "text": [
      "*****Before Processing first sentence : *****\n",
      " \n",
      "\n",
      "\n",
      "The majority of all norovirus outbreaks reported to the CDC occur in long-term care facilities 60 , including nursing homes, where older residents are at risk for more severe or nursing homes  , the number of older adults using paid long-term care services is expected to 78 grow substantially over the coming decade  .\n",
      "*****After Processing first sentence : *****\n",
      "  [ 2  3  4  5  6  7  8  9 10 11 12 13 14 15 16 17 18 19 20 21 18 22 23 24\n",
      " 25 26 27 28 29 30 31 20 21 18 10 32  4 23 33 34 35 14 15 36 37 38  9 39\n",
      " 40 41 42 10 43 44 45  0  0  0  0  0  0  0  0  0  0  0  0  0  0  0]\n"
     ]
    }
   ],
   "source": [
    "print('*****Before Processing first sentence : *****\\n', sentences[0])\n",
    "print('*****After Processing first sentence : *****\\n ', X[0])"
   ]
  },
  {
   "cell_type": "code",
   "execution_count": 39,
   "metadata": {},
   "outputs": [],
   "source": [
    "import tensorflow as tf\n",
    "import tensorflow_addons as tfa\n",
    "import numpy as np\n",
    "import tqdm\n",
    "from tensorflow.keras.models import Sequential\n",
    "from tensorflow.keras.callbacks import TensorBoard\n",
    "from crf import CRF\n",
    "\n",
    "class MyBiLSTMCRF:\n",
    "    def __init__(self, vocab_size, max_len, label_size, embedding_size, hidden_size, tagIndexDict, sequenceLengths=None):\n",
    "        self.vocab_size = vocab_size\n",
    "        self.embedding_size = embedding_size\n",
    "        self.max_len = max_len\n",
    "        self.label_size = label_size\n",
    "        self.hidden_size = hidden_size\n",
    "        self.sequenceLengths=sequenceLengths\n",
    "        self.tagIndexDict=tagIndexDict\n",
    "\n",
    "        self.buildBiLSTMCRF()\n",
    "\n",
    "#     def getTransParam(self,y,tagIndexDict):\n",
    "#         self.trainY=np.argmax(y,axis=-1)\n",
    "#         yList=self.trainY.tolist()\n",
    "#         transParam=np.zeros([len(list(tagIndexDict.keys())),len(list(tagIndexDict.keys()))])\n",
    "#         for rowI in range(len(yList)):\n",
    "#             for colI in range(len(yList[rowI])-1):\n",
    "#                 transParam[yList[rowI][colI]][yList[rowI][colI+1]]+=1\n",
    "#         for rowI in range(transParam.shape[0]):\n",
    "#             transParam[rowI]=transParam[rowI]/np.sum(transParam[rowI])\n",
    "#         return transParam\n",
    "    \n",
    "    def buildBiLSTMCRF(self):\n",
    "\n",
    "        myModel=Sequential()\n",
    "        myModel.add(tf.keras.layers.Input(shape=(self.max_len,)))\n",
    "        myModel.add(tf.keras.layers.Embedding(self.vocab_size, self.embedding_size))\n",
    "        myModel.add(tf.keras.layers.Bidirectional(tf.keras.layers.LSTM(\n",
    "                    self.hidden_size, return_sequences=True, activation=\"tanh\"), merge_mode='sum'))\n",
    "        crf=CRF(self.label_size,name='crf_layer')\n",
    "        myModel.add(crf)\n",
    "        myModel.compile('adam', loss={'crf_layer': crf.get_loss}, metrics=['accuracy'])\n",
    "        self.myBiLSTMCRF=myModel\n",
    "        \n",
    "#     def fit(self,X,y,epochs=100,transParam=None):\n",
    "#         if len(y.shape)==3:\n",
    "#             y=np.argmax(y,axis=-1)\n",
    "#         if self.sequenceLengths is None:\n",
    "#             self.sequenceLengths=[row.shape[0] for row in y]\n",
    "#         log_dir = \"logs\"\n",
    "#         tensorboard_callback = TensorBoard(log_dir=log_dir, histogram_freq=1)\n",
    "\n",
    "#         history=self.myBiLSTMCRF.fit(X,y,epochs=epochs,callbacks=[tensorboard_callback])\n",
    "\n",
    "#         return history\n",
    "\n",
    "    def predict(self,X):\n",
    "        preYArr=self.myBiLSTMCRF.predict(X)\n",
    "        return preYArr"
   ]
  },
  {
   "cell_type": "code",
   "execution_count": 40,
   "metadata": {},
   "outputs": [
    {
     "name": "stdout",
     "output_type": "stream",
     "text": [
      "Model: \"sequential_3\"\n",
      "_________________________________________________________________\n",
      "Layer (type)                 Output Shape              Param #   \n",
      "=================================================================\n",
      "embedding_3 (Embedding)      (None, 70, 50)            1432100   \n",
      "_________________________________________________________________\n",
      "bidirectional_3 (Bidirection (None, 70, 32)            21248     \n",
      "_________________________________________________________________\n",
      "crf_layer (CRF)              (None, 70)                156       \n",
      "=================================================================\n",
      "Total params: 1,453,504\n",
      "Trainable params: 1,453,504\n",
      "Non-trainable params: 0\n",
      "_________________________________________________________________\n"
     ]
    }
   ],
   "source": [
    "hidden_size = 32\n",
    "embedding_size = 50\n",
    "vocab_size = len(words) + 2\n",
    "label_size = 4\n",
    "max_len = 70\n",
    "BATCH_SIZE = 32\n",
    "myModel=MyBiLSTMCRF(vocab_size, max_len, label_size, embedding_size, hidden_size, tag_to_index)\n",
    "myModel.myBiLSTMCRF.summary()\n"
   ]
  },
  {
   "cell_type": "code",
   "execution_count": 42,
   "metadata": {},
   "outputs": [
    {
     "name": "stdout",
     "output_type": "stream",
     "text": [
      "(3501, 70)\n",
      "(3501, 70)\n",
      "(1167, 70)\n",
      "(1167, 70)\n",
      "Train on 3501 samples, validate on 1167 samples\n",
      "Epoch 1/5\n",
      "3501/3501 [==============================] - 8s 2ms/sample - loss: 0.4003 - accuracy: 1.0000 - val_loss: 0.4608 - val_accuracy: 1.0000\n",
      "Epoch 2/5\n",
      "3501/3501 [==============================] - 8s 2ms/sample - loss: 0.2753 - accuracy: 1.0000 - val_loss: 0.3258 - val_accuracy: 1.0000\n",
      "Epoch 3/5\n",
      "3501/3501 [==============================] - 9s 2ms/sample - loss: 0.2020 - accuracy: 1.0000 - val_loss: 0.3344 - val_accuracy: 1.0000\n",
      "Epoch 4/5\n",
      "3501/3501 [==============================] - 8s 2ms/sample - loss: 0.1459 - accuracy: 1.0000 - val_loss: 0.2790 - val_accuracy: 1.0000\n",
      "Epoch 5/5\n",
      "3501/3501 [==============================] - 9s 2ms/sample - loss: 0.1150 - accuracy: 1.0000 - val_loss: 0.2934 - val_accuracy: 1.0000\n"
     ]
    }
   ],
   "source": [
    "print(X_train.shape)\n",
    "print(y_train.shape)\n",
    "print(X_test.shape)\n",
    "print(y_test.shape)\n",
    "history = myModel.myBiLSTMCRF.fit(X_train,\n",
    "                                  y_train,\n",
    "                                  epochs=5,\n",
    "                                  batch_size=BATCH_SIZE,\n",
    "                                  verbose=1,\n",
    "                                  validation_data=(X_test, y_test)\n",
    "                                  )"
   ]
  },
  {
   "cell_type": "code",
   "execution_count": 6,
   "metadata": {},
   "outputs": [
    {
     "data": {
      "image/png": "[encoded data removed]",
      "text/plain": [
       "<Figure size 432x288 with 1 Axes>"
      ]
     },
     "metadata": {
      "needs_background": "light"
     },
     "output_type": "display_data"
    }
   ],
   "source": [
    "epoches = [1,2,3,4,5]\n",
    "losses = [0.4003,0.2753,0.2020,0.1459,0.1150]\n",
    "val_losses = [0.4608,0.3258,0.3344,0.2790,0.2934]\n",
    "import matplotlib.pyplot as plt\n",
    "%matplotlib inline\n",
    "# Plot the learning curve.\n",
    "plt.plot(epoches,losses, 'b-o', label=\"Training\")\n",
    "plt.plot(epoches,val_losses, 'g-o', label=\"Validation\")\n",
    "\n",
    "# Label the plot.\n",
    "plt.title(\"Training & Validation Loss\")\n",
    "plt.xlabel(\"Epoch\")\n",
    "plt.ylabel(\"Loss\")\n",
    "plt.legend()\n",
    "plt.xticks([1, 2, 3, 4, 5])\n",
    "\n",
    "plt.show()"
   ]
  },
  {
   "cell_type": "code",
   "execution_count": 33,
   "metadata": {},
   "outputs": [
    {
     "name": "stdout",
     "output_type": "stream",
     "text": [
      "(3501, 70)\n",
      "(3501, 70)\n",
      "(1167, 70)\n",
      "(1167, 70)\n",
      "Train on 3501 samples, validate on 1167 samples\n"
     ]
    }
   ],
   "source": [
    "print(X_train.shape)\n",
    "print(y_train.shape)\n",
    "print(X_test.shape)\n",
    "print(y_test.shape)\n",
    "history = myModel.myBiLSTMCRF.fit(X_train,\n",
    "                                  y_train,\n",
    "                                  epochs=1,\n",
    "                                  batch_size=BATCH_SIZE,\n",
    "                                  verbose=10,\n",
    "                                  validation_data=(X_test, y_test),\n",
    "                                  callbacks=[\n",
    "                                      tf.keras.callbacks.EarlyStopping(\n",
    "                                          monitor='val_accuracy',\n",
    "                                          min_delta=0,\n",
    "                                          patience=1,\n",
    "                                          verbose=0,\n",
    "                                          mode='max')\n",
    "                                  ])"
   ]
  },
  {
   "cell_type": "code",
   "execution_count": 43,
   "metadata": {},
   "outputs": [
    {
     "name": "stdout",
     "output_type": "stream",
     "text": [
      "The majority of all norovirus outbreaks reported to the CDC occur in long-term care facilities 60 , including nursing homes , where older residents are at risk for more severe or nursing homes , the number of older adults using paid long-term care services is expected to 78 grow substantially over the coming decade . PAD PAD PAD PAD PAD PAD PAD PAD PAD PAD PAD PAD PAD PAD PAD\n",
      "O O O O O O O O O O O O O O O O O O O O O O O O O O O O O O O O O O O O O B I O O O O O O O O O O O O O O O O PAD PAD PAD PAD PAD PAD PAD PAD PAD PAD PAD PAD PAD PAD PAD\n"
     ]
    }
   ],
   "source": [
    "preY=myModel.predict(X[0:3])[0]\n",
    "print(' '.join([idx2word[word] for word in X[0]]))\n",
    "print(' '.join([idx2tag[tag] for tag in preY]))"
   ]
  },
  {
   "cell_type": "code",
   "execution_count": 44,
   "metadata": {},
   "outputs": [
    {
     "name": "stdout",
     "output_type": "stream",
     "text": [
      "[[3 3 3 3 3 3 3 3 3 3 3 3 3 3 3 3 3 3 3 3 3 3 3 3 3 3 3 3 3 3 3 3 3 3 3 3\n",
      "  3 1 2 3 3 3 3 3 3 3 3 3 3 3 3 3 3 3 3 0 0 0 0 0 0 0 0 0 0 0 0 0 0 0]\n",
      " [3 3 3 3 3 3 3 3 3 3 3 3 3 3 3 3 3 3 3 3 3 3 3 3 3 3 3 3 3 3 3 3 3 3 3 3\n",
      "  3 1 2 3 3 3 3 3 3 3 3 3 3 3 3 3 3 3 3 0 0 0 0 0 0 0 0 0 0 0 0 0 0 0]\n",
      " [3 3 3 3 3 3 3 3 3 1 2 3 3 3 3 3 3 3 3 3 3 3 0 0 0 0 0 0 0 0 0 0 0 0 0 0\n",
      "  0 0 0 0 0 0 0 0 0 0 0 0 0 0 0 0 0 0 0 0 0 0 0 0 0 0 0 0 0 0 0 0 0 0]]\n",
      "['older']\n"
     ]
    }
   ],
   "source": [
    "preY=myModel.predict(X[0:3])\n",
    "print(preY)\n",
    "print([idx2word[X[0][j]] for j,ttag in enumerate(preY[0]) if idx2tag[ttag]=='B'])"
   ]
  },
  {
   "cell_type": "code",
   "execution_count": 45,
   "metadata": {},
   "outputs": [
    {
     "name": "stdout",
     "output_type": "stream",
     "text": [
      "[['asthma'], ['asthma', 'asthma'], ['asthma'], ['asthma', 'cancer'], ['asthma', 'cancer'], ['asthma', 'cancer'], ['asthma'], ['asthma'], ['disease', 'asthma'], ['asthma']]\n"
     ]
    }
   ],
   "source": [
    "def get_risk_factor(x):\n",
    "    x_risk_factors = []\n",
    "    preY=myModel.predict(x)\n",
    "    for i in range(len(preY)):\n",
    "        temp = [idx2word[x[i][j]] for j,ttag in enumerate(preY[i]) if idx2tag[ttag]=='B' or idx2tag[ttag]=='I']\n",
    "        if len(temp)==0:\n",
    "            temp = ['None']\n",
    "        x_risk_factors.append(temp)\n",
    "    return x_risk_factors\n",
    "temp_risk_factors = get_risk_factor(X[3000:3010])\n",
    "print(temp_risk_factors)"
   ]
  },
  {
   "cell_type": "markdown",
   "metadata": {},
   "source": [
    "# 在positive句子上试试"
   ]
  },
  {
   "cell_type": "code",
   "execution_count": 46,
   "metadata": {},
   "outputs": [],
   "source": [
    "pos_sentences = pd.read_excel('positive_sent.xlsx').sentence\n",
    "del_index = []    \n",
    "\n",
    "for i in range(len(pos_sentences)):\n",
    "    if len(pos_sentences[i]) > 512 or len(word_tokenize(pos_sentences[i])) > 70:\n",
    "        del_index.append(i)\n",
    "\n",
    "for i in del_index[::-1]:\n",
    "    del pos_sentences[i]\n",
    "\n",
    "all_positive_sent = []\n",
    "max_len = 70\n",
    "for i in pos_sentences:\n",
    "    all_positive_sent.append(preprocess(i))\n",
    "    \n",
    "\n"
   ]
  },
  {
   "cell_type": "code",
   "execution_count": 47,
   "metadata": {},
   "outputs": [
    {
     "name": "stdout",
     "output_type": "stream",
     "text": [
      "22281\n",
      "[('This', 'DT', 'O'), ('study', 'NN', 'O'), ('provides', 'VBZ', 'O'), ('an', 'DT', 'O'), ('inexpensive', 'JJ', 'O'), ('way', 'NN', 'O'), ('to', 'TO', 'O'), ('discover', 'VB', 'O'), ('functional', 'JJ', 'O'), ('motif', 'NN', 'O'), ('for', 'IN', 'O'), ('BEFV', 'NNP', 'O'), ('infection', 'NN', 'O'), ('using', 'VBG', 'O'), ('the', 'DT', 'O'), ('phage-display', 'NN', 'O'), ('technology', 'NN', 'O'), (',', ',', 'O'), ('which', 'WDT', 'O'), ('is', 'VBZ', 'O'), ('possible', 'JJ', 'O'), ('to', 'TO', 'O'), ('find', 'VB', 'O'), ('the', 'DT', 'O'), ('potential', 'JJ', 'O'), ('protein', 'NN', 'O'), ('to', 'TO', 'O'), ('mediate', 'VB', 'O'), ('the', 'DT', 'O'), ('interaction', 'NN', 'O'), ('between', 'IN', 'O'), ('BEFV', 'NNP', 'O'), ('and', 'CC', 'O'), ('the', 'DT', 'O'), ('host', 'NN', 'O'), ('.', '.', 'O')]\n"
     ]
    }
   ],
   "source": [
    "print(len(all_positive_sent))\n",
    "print(all_positive_sent[3])"
   ]
  },
  {
   "cell_type": "code",
   "execution_count": 48,
   "metadata": {},
   "outputs": [
    {
     "name": "stdout",
     "output_type": "stream",
     "text": [
      "<class 'list'>\n",
      "22281\n"
     ]
    }
   ],
   "source": [
    "print(type(pos_sentences.tolist()))\n",
    "print(len(pos_sentences))"
   ]
  },
  {
   "cell_type": "code",
   "execution_count": 49,
   "metadata": {},
   "outputs": [],
   "source": [
    "X_pos =  [w for w in preprocess(pos_sentences[0])]\n"
   ]
  },
  {
   "cell_type": "code",
   "execution_count": 50,
   "metadata": {},
   "outputs": [
    {
     "name": "stdout",
     "output_type": "stream",
     "text": [
      "OK\n"
     ]
    }
   ],
   "source": [
    "X_pos = [ [word_to_index[w[0]] for w in preprocess(s)] for s in pos_sentences.tolist()]\n",
    "\n",
    "print('OK')\n",
    "X_pos = pad_sequences(maxlen=max_len,\n",
    "                  sequences=X_pos,\n",
    "                  padding=\"post\",\n",
    "                  value=word_to_index[\"PAD\"])\n",
    "risk_factors_all = get_risk_factor(X_pos)\n",
    "df = pd.DataFrame({'sentences':pos_sentences, 'risk factor':risk_factors_all})\n",
    "df.head(10)\n",
    "df.to_excel('positive_sent_NER.xlsx')    "
   ]
  },
  {
   "cell_type": "code",
   "execution_count": null,
   "metadata": {},
   "outputs": [],
   "source": []
  }
 ],
 "metadata": {
  "kernelspec": {
   "display_name": "Python 3",
   "language": "python",
   "name": "python3"
  },
  "language_info": {
   "codemirror_mode": {
    "name": "ipython",
    "version": 3
   },
   "file_extension": ".py",
   "mimetype": "text/x-python",
   "name": "python",
   "nbconvert_exporter": "python",
   "pygments_lexer": "ipython3",
   "version": "3.6.10"
  },
  "toc": {
   "base_numbering": 1,
   "nav_menu": {},
   "number_sections": true,
   "sideBar": true,
   "skip_h1_title": false,
   "title_cell": "Table of Contents",
   "title_sidebar": "Contents",
   "toc_cell": false,
   "toc_position": {},
   "toc_section_display": true,
   "toc_window_display": false
  },
  "varInspector": {
   "cols": {
    "lenName": 16,
    "lenType": 16,
    "lenVar": 40
   },
   "kernels_config": {
    "python": {
     "delete_cmd_postfix": "",
     "delete_cmd_prefix": "del ",
     "library": "var_list.py",
     "varRefreshCmd": "print(var_dic_list())"
    },
    "r": {
     "delete_cmd_postfix": ") ",
     "delete_cmd_prefix": "rm(",
     "library": "var_list.r",
     "varRefreshCmd": "cat(var_dic_list()) "
    }
   },
   "types_to_exclude": [
    "module",
    "function",
    "builtin_function_or_method",
    "instance",
    "_Feature"
   ],
   "window_display": false
  }
 },
 "nbformat": 4,
 "nbformat_minor": 2
}
